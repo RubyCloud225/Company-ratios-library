{
 "cells": [
  {
   "cell_type": "code",
   "execution_count": 1,
   "metadata": {},
   "outputs": [],
   "source": [
    "from data_processing import BalanceSheetDownloader\n",
    "from data_processing import StockPriceImporter"
   ]
  },
  {
   "cell_type": "code",
   "execution_count": 2,
   "metadata": {},
   "outputs": [
    {
     "name": "stdout",
     "output_type": "stream",
     "text": [
      "                                                     2023-12-31  \\\n",
      "Treasury Shares Number                                2535094.0   \n",
      "Ordinary Shares Number                              499513306.0   \n",
      "Share Issued                                        502048400.0   \n",
      "Net Debt                                          14133000000.0   \n",
      "Total Debt                                        38876000000.0   \n",
      "...                                                         ...   \n",
      "Cash Cash Equivalents And Short Term Investments  11264000000.0   \n",
      "Other Short Term Investments                       3490000000.0   \n",
      "Cash And Cash Equivalents                          7774000000.0   \n",
      "Cash Equivalents                                   1671000000.0   \n",
      "Cash Financial                                     6103000000.0   \n",
      "\n",
      "                                                     2022-12-31  \\\n",
      "Treasury Shares Number                                2180399.0   \n",
      "Ordinary Shares Number                              501076940.0   \n",
      "Share Issued                                        503257339.0   \n",
      "Net Debt                                          12438000000.0   \n",
      "Total Debt                                        35467000000.0   \n",
      "...                                                         ...   \n",
      "Cash Cash Equivalents And Short Term Investments  10852000000.0   \n",
      "Other Short Term Investments                       3552000000.0   \n",
      "Cash And Cash Equivalents                          7300000000.0   \n",
      "Cash Equivalents                                   1288000000.0   \n",
      "Cash Financial                                     6013000000.0   \n",
      "\n",
      "                                                     2021-12-31  \\\n",
      "Treasury Shares Number                                1252610.0   \n",
      "Ordinary Shares Number                              503504729.0   \n",
      "Share Issued                                        504757339.0   \n",
      "Net Debt                                          12220000000.0   \n",
      "Total Debt                                        34839000000.0   \n",
      "...                                                         ...   \n",
      "Cash Cash Equivalents And Short Term Investments  10565000000.0   \n",
      "Other Short Term Investments                       2544000000.0   \n",
      "Cash And Cash Equivalents                          8021000000.0   \n",
      "Cash Equivalents                                   2305000000.0   \n",
      "Cash Financial                                     5717000000.0   \n",
      "\n",
      "                                                     2020-12-31 2019-12-31  \n",
      "Treasury Shares Number                                 861456.0        NaN  \n",
      "Ordinary Shares Number                              503895883.0        NaN  \n",
      "Share Issued                                        504757339.0        NaN  \n",
      "Net Debt                                           4740000000.0        NaN  \n",
      "Total Debt                                        38566000000.0        NaN  \n",
      "...                                                         ...        ...  \n",
      "Cash Cash Equivalents And Short Term Investments  20715000000.0        NaN  \n",
      "Other Short Term Investments                        752000000.0        NaN  \n",
      "Cash And Cash Equivalents                         19963000000.0        NaN  \n",
      "Cash Equivalents                                  15489000000.0        NaN  \n",
      "Cash Financial                                     4474000000.0        NaN  \n",
      "\n",
      "[85 rows x 5 columns]\n"
     ]
    }
   ],
   "source": [
    "downloader = BalanceSheetDownloader(\"MC.PA\")\n",
    "balance_sheet = downloader.print_balance_sheet()"
   ]
  },
  {
   "cell_type": "code",
   "execution_count": 3,
   "metadata": {},
   "outputs": [
    {
     "name": "stderr",
     "output_type": "stream",
     "text": [
      "[*********************100%%**********************]  1 of 1 completed"
     ]
    },
    {
     "name": "stdout",
     "output_type": "stream",
     "text": [
      "           Date        Open        High         Low       Close   Adj Close  \\\n",
      "0    2023-01-02  689.400024  695.000000  685.099976  694.099976  676.864197   \n",
      "1    2023-01-03  691.500000  711.299988  691.299988  702.799988  685.348206   \n",
      "2    2023-01-04  714.900024  738.000000  710.900024  738.000000  719.674194   \n",
      "3    2023-01-05  729.000000  734.700012  722.099976  728.400024  710.312622   \n",
      "4    2023-01-06  734.000000  748.799988  728.799988  748.799988  730.205933   \n",
      "..          ...         ...         ...         ...         ...         ...   \n",
      "250  2023-12-21  741.000000  744.299988  735.500000  743.400024  736.402649   \n",
      "251  2023-12-22  735.299988  742.200012  733.400024  737.700012  730.756287   \n",
      "252  2023-12-27  738.500000  743.599976  733.700012  735.400024  728.477966   \n",
      "253  2023-12-28  736.900024  739.700012  728.599976  731.000000  724.119385   \n",
      "254  2023-12-29  733.000000  738.299988  732.200012  733.599976  726.694885   \n",
      "\n",
      "     Volume  \n",
      "0    194703  \n",
      "1    316482  \n",
      "2    570725  \n",
      "3    327709  \n",
      "4    318415  \n",
      "..      ...  \n",
      "250  246163  \n",
      "251  290012  \n",
      "252  185900  \n",
      "253  162422  \n",
      "254  139158  \n",
      "\n",
      "[255 rows x 7 columns]\n"
     ]
    },
    {
     "name": "stderr",
     "output_type": "stream",
     "text": [
      "\n"
     ]
    }
   ],
   "source": [
    "importer = StockPriceImporter(\"MC.PA\", '2022-12-31', '2023-12-31')\n",
    "stock_price = importer.import_stock_prices()\n",
    "print(stock_price)"
   ]
  },
  {
   "cell_type": "code",
   "execution_count": 4,
   "metadata": {},
   "outputs": [],
   "source": [
    "from ratios import RatioCalculator"
   ]
  },
  {
   "cell_type": "code",
   "execution_count": 5,
   "metadata": {},
   "outputs": [
    {
     "name": "stderr",
     "output_type": "stream",
     "text": [
      "c:\\Users\\tabbs\\LVMH\\ratios.py:26: FutureWarning: Series.__getitem__ treating keys as positions is deprecated. In a future version, integer keys will always be treated as labels (consistent with DataFrame behavior). To access a value by position, use `ser.iloc[pos]`\n",
      "  total_debt = balance_sheet.loc['Long Term Debt'][0]\n"
     ]
    },
    {
     "name": "stdout",
     "output_type": "stream",
     "text": [
      "Earnings Per Share (EPS): $27.92\n",
      "P/B Ratio: 5.11\n",
      "P/E Ratio: 23.75\n",
      "Dividend Payout Ratio: 0.47\n",
      "Debt to Equity Ratio: 86542612.23\n",
      "Sharpe Ratio: -3.13\n"
     ]
    }
   ],
   "source": [
    "calculator = RatioCalculator(\"MC.PA\")\n",
    "calculator.print_ratios()"
   ]
  },
  {
   "cell_type": "code",
   "execution_count": null,
   "metadata": {},
   "outputs": [],
   "source": []
  }
 ],
 "metadata": {
  "kernelspec": {
   "display_name": "Python 3",
   "language": "python",
   "name": "python3"
  },
  "language_info": {
   "codemirror_mode": {
    "name": "ipython",
    "version": 3
   },
   "file_extension": ".py",
   "mimetype": "text/x-python",
   "name": "python",
   "nbconvert_exporter": "python",
   "pygments_lexer": "ipython3",
   "version": "3.12.3"
  }
 },
 "nbformat": 4,
 "nbformat_minor": 2
}
