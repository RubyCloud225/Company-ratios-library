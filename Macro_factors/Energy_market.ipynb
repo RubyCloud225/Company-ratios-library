{
 "cells": [
  {
   "cell_type": "code",
   "execution_count": 10,
   "metadata": {},
   "outputs": [],
   "source": [
    "from Market_size import MarketCalculator\n",
    "from marketshare import MarketAnalysis"
   ]
  },
  {
   "cell_type": "markdown",
   "metadata": {},
   "source": [
    "Measured in TWH (terrawatt hours)- 1 tr hours\n",
    "World population is 8,161,972572\n",
    "Total Consumption is 1.4m per day * 365 days\n",
    "Example company BP\n",
    "total customers are done per retail site"
   ]
  },
  {
   "cell_type": "markdown",
   "metadata": {},
   "source": [
    "total leads have been assumed to be 100,000\n",
    "Saudi Aramco - 1.789 t\n",
    "Exxon Mobil 528.8b\n",
    "Chevron 264.47 b\n",
    "shell 224.95b\n",
    "PetroChina 215.62 b\n",
    "total Energies 154.66b\n",
    "Conoco Phillips 126.66b"
   ]
  },
  {
   "cell_type": "markdown",
   "metadata": {},
   "source": [
    "Lead Generation is measured total cost / number of leads. The numbers are assumed and will need to change per client"
   ]
  },
  {
   "cell_type": "code",
   "execution_count": 11,
   "metadata": {},
   "outputs": [],
   "source": [
    "Calculator = MarketCalculator(\n",
    "    total_consumption=1400000 * 365, \n",
    "    total_population=8161972572, \n",
    "    marketing_budget=20000, \n",
    "    total_customers=21100, \n",
    "    total_leads=250000000,\n",
    "    lead_generation_data=[\n",
    "        \"Facebook\" == (30000, 300),\n",
    "        \"Google\" == (25000, 250),\n",
    "        \"email\" == (20000, 200),\n",
    "        \"tiktok\" == (25000, 250),\n",
    "        \"Instagram\" == (30000, 300),\n",
    "    ],\n",
    "    desired_market_share=0.2,\n",
    "    sales_team_size=100,\n",
    "    total_revenue=2101300000000000,\n",
    "    )"
   ]
  },
  {
   "cell_type": "code",
   "execution_count": 12,
   "metadata": {},
   "outputs": [
    {
     "name": "stdout",
     "output_type": "stream",
     "text": [
      "Cost per Lead: 0.08\n"
     ]
    }
   ],
   "source": [
    "marketing_budget = 250000\n",
    "cost_per_lead = Calculator.calculate_cost_per_lead(marketing_budget)\n",
    "print(\"Cost per Lead:\", cost_per_lead)"
   ]
  },
  {
   "cell_type": "code",
   "execution_count": 13,
   "metadata": {},
   "outputs": [
    {
     "name": "stdout",
     "output_type": "stream",
     "text": [
      "Lead Generation Rate: 0.08\n"
     ]
    }
   ],
   "source": [
    "lead_generation_rate = Calculator.calculate_lead_generation_rate(marketing_budget)\n",
    "print(\"Lead Generation Rate:\", lead_generation_rate)"
   ]
  },
  {
   "cell_type": "code",
   "execution_count": 14,
   "metadata": {},
   "outputs": [
    {
     "name": "stdout",
     "output_type": "stream",
     "text": [
      "Market Shares:\n",
      "BP: 5.26%\n",
      "Saudi Aramco: 12.24%\n",
      "Sinopec: 11.84%\n",
      "Exxon Mobil: 10.77%\n",
      "Shell: 0.76%\n",
      "TotalEnergies: 5.26%\n",
      "Chevron: 4.87%\n",
      "Phillips 66: 3.71%\n",
      "Marathon Petroleum: 3.66%\n",
      "Valero Energy: 3.50%\n",
      "Equinor: 2.63%\n",
      "Number of competitors: 10\n",
      "Competitor rate: 0.00%\n",
      "Herfindahl-Hirschman Index (HHI): 531.56\n",
      "Market concentration: Low\n",
      "None\n"
     ]
    }
   ],
   "source": [
    "ms = MarketAnalysis(total_industry_revenue=4000000000000)\n",
    "ms.add_company(\"BP\", 210240000000),\n",
    "ms.add_company(\"Saudi Aramco\", 489430000000),\n",
    "ms.add_company(\"Sinopec\", 473530000000),\n",
    "ms.add_company(\"Exxon Mobil\", 430650000000),\n",
    "ms.add_company(\"Shell\", 30213000000),\n",
    "ms.add_company(\"TotalEnergies\", 210240000000),\n",
    "ms.add_company(\"Chevron\", 194650000000),\n",
    "ms.add_company(\"Phillips 66\", 148220000000),\n",
    "ms.add_company(\"Marathon Petroleum\", 146220000000),\n",
    "ms.add_company(\"Valero Energy\", 140060000000),\n",
    "ms.add_company(\"Equinor\", 105310000000),\n",
    "market = ms.analyze_market()\n",
    "print(market)"
   ]
  },
  {
   "cell_type": "code",
   "execution_count": 15,
   "metadata": {},
   "outputs": [
    {
     "name": "stdout",
     "output_type": "stream",
     "text": [
      "Sales Conversion Rate: 0.05\n"
     ]
    }
   ],
   "source": [
    "sales_team_size = 2000\n",
    "sales_conversion_rate = Calculator.calculate_sales_conversion_rate(sales_team_size)\n",
    "print(\"Sales Conversion Rate:\", sales_conversion_rate)"
   ]
  },
  {
   "cell_type": "code",
   "execution_count": 16,
   "metadata": {},
   "outputs": [
    {
     "name": "stdout",
     "output_type": "stream",
     "text": [
      "Consumption Per Captia: 0.06260741450577861\n"
     ]
    }
   ],
   "source": [
    "consumption_per_capita = Calculator.calculate_consumption_per_capita()\n",
    "print(\"Consumption Per Captia:\", consumption_per_capita)"
   ]
  },
  {
   "cell_type": "code",
   "execution_count": 17,
   "metadata": {},
   "outputs": [
    {
     "name": "stdout",
     "output_type": "stream",
     "text": [
      "TAM: 511000000.0\n"
     ]
    }
   ],
   "source": [
    "tam = Calculator.calculate_tam(consumption_per_capita)\n",
    "print(\"TAM:\", tam)"
   ]
  },
  {
   "cell_type": "code",
   "execution_count": 18,
   "metadata": {},
   "outputs": [
    {
     "name": "stdout",
     "output_type": "stream",
     "text": [
      "Target Market Size: 102200000.0\n"
     ]
    }
   ],
   "source": [
    "target_market_size = Calculator.calculate_target_market_size(tam)\n",
    "print(\"Target Market Size:\", target_market_size)"
   ]
  },
  {
   "cell_type": "code",
   "execution_count": 19,
   "metadata": {},
   "outputs": [
    {
     "name": "stdout",
     "output_type": "stream",
     "text": [
      "Penetration_rate: 0.2\n"
     ]
    }
   ],
   "source": [
    "penetration_rate = Calculator.calculate_penetration_rate(tam, target_market_size)\n",
    "print(\"Penetration_rate:\", penetration_rate)"
   ]
  },
  {
   "cell_type": "code",
   "execution_count": 20,
   "metadata": {},
   "outputs": [
    {
     "name": "stdout",
     "output_type": "stream",
     "text": [
      "SAM: 102200000.0\n"
     ]
    }
   ],
   "source": [
    "sam = Calculator.calculate_sam(tam, penetration_rate)\n",
    "print(\"SAM:\", sam)"
   ]
  },
  {
   "cell_type": "code",
   "execution_count": 21,
   "metadata": {},
   "outputs": [
    {
     "name": "stdout",
     "output_type": "stream",
     "text": [
      "som: -2611209974450000.0\n"
     ]
    }
   ],
   "source": [
    "som = Calculator.calculate_som(tam, sam, sales_conversion_rate)\n",
    "print(\"som:\", som)"
   ]
  },
  {
   "cell_type": "code",
   "execution_count": 22,
   "metadata": {},
   "outputs": [
    {
     "name": "stdout",
     "output_type": "stream",
     "text": [
      "Average revenue per user: $8405200.00\n"
     ]
    }
   ],
   "source": [
    "average_revenue_per_user = Calculator.calculate_average_revenue_per_user()\n",
    "print(f\"Average revenue per user: ${average_revenue_per_user:.2f}\")"
   ]
  },
  {
   "cell_type": "code",
   "execution_count": 24,
   "metadata": {},
   "outputs": [
    {
     "name": "stdout",
     "output_type": "stream",
     "text": [
      "5.22242e+16\n"
     ]
    }
   ],
   "source": [
    "market_size = Calculator.calculate_market_size(sam, tam)\n",
    "print(market_size)"
   ]
  },
  {
   "cell_type": "code",
   "execution_count": 25,
   "metadata": {},
   "outputs": [
    {
     "name": "stdout",
     "output_type": "stream",
     "text": [
      "4.3895484584e+23\n"
     ]
    }
   ],
   "source": [
    "revenue = Calculator.calculate_potential_revenue(average_revenue_per_user, market_size)\n",
    "print(revenue)"
   ]
  }
 ],
 "metadata": {
  "kernelspec": {
   "display_name": "Python 3",
   "language": "python",
   "name": "python3"
  },
  "language_info": {
   "codemirror_mode": {
    "name": "ipython",
    "version": 3
   },
   "file_extension": ".py",
   "mimetype": "text/x-python",
   "name": "python",
   "nbconvert_exporter": "python",
   "pygments_lexer": "ipython3",
   "version": "3.12.5"
  }
 },
 "nbformat": 4,
 "nbformat_minor": 2
}
